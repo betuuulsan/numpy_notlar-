{
  "nbformat": 4,
  "nbformat_minor": 0,
  "metadata": {
    "colab": {
      "provenance": [],
      "authorship_tag": "ABX9TyNAqglGELdbPKdNcX+yFHA1",
      "include_colab_link": true
    },
    "kernelspec": {
      "name": "python3",
      "display_name": "Python 3"
    },
    "language_info": {
      "name": "python"
    }
  },
  "cells": [
    {
      "cell_type": "markdown",
      "metadata": {
        "id": "view-in-github",
        "colab_type": "text"
      },
      "source": [
        "<a href=\"https://colab.research.google.com/github/betuuulsan/numpy_notlar-/blob/main/Numpy.ipynb\" target=\"_parent\"><img src=\"https://colab.research.google.com/assets/colab-badge.svg\" alt=\"Open In Colab\"/></a>"
      ]
    },
    {
      "cell_type": "code",
      "execution_count": 6,
      "metadata": {
        "id": "XqhAb-gPQ11m"
      },
      "outputs": [],
      "source": [
        "import numpy as np\n",
        "#Numpy, Python programlama dilinde kullanılan güçlü bir sayısal hesaplama kütüphanesidir.\n",
        "#Temelde çok boyutlu diziler ve matrisler üzerinde yüksek performanslı matematiksel işlemler gerçekleştirmek için tasarlanmıştır.\n",
        "#Numpy, bilimsel hesaplamalarda, veri analizinde ve makine öğrenmesi gibi alanlarda geniş bir kullanım alanına sahiptir."
      ]
    },
    {
      "cell_type": "code",
      "source": [
        "#bir numpy array oluşturalım:\n",
        "dizi = np.array([1,2,3])\n",
        "print(dizi)"
      ],
      "metadata": {
        "colab": {
          "base_uri": "https://localhost:8080/"
        },
        "id": "Y1Iw1Carcbo-",
        "outputId": "c5879338-2e80-4f4b-c34d-b07361af905a"
      },
      "execution_count": 11,
      "outputs": [
        {
          "output_type": "stream",
          "name": "stdout",
          "text": [
            "[1 2 3]\n"
          ]
        }
      ]
    },
    {
      "cell_type": "code",
      "source": [
        "#yukarıdaki numpy array'in tipine bakalım\n",
        "dizi = np.array([1,2,3])\n",
        "print(type(dizi))"
      ],
      "metadata": {
        "colab": {
          "base_uri": "https://localhost:8080/"
        },
        "id": "97XstzY3cpKA",
        "outputId": "e5595b92-d963-42ef-ffb9-a9626dbeb570"
      },
      "execution_count": 12,
      "outputs": [
        {
          "output_type": "stream",
          "name": "stdout",
          "text": [
            "<class 'numpy.ndarray'>\n"
          ]
        }
      ]
    },
    {
      "cell_type": "code",
      "source": [
        "\n",
        "\n",
        "dizi = np.array([[1,2,3],[4,5,6]])   #Bu satırda, bir Numpy dizisi oluşturuyoruz. İki satır ve üç sütundan oluşan bir matris. Matrisin elemanları 1'den 6'ya kadar ardışık sayılardır.\n",
        "yeni_dizi = dizi.reshape(3,2)\n",
        "# reshape fonksiyonunu kullanarak dizi adlı orijinal diziyi yeniden şekillendiriyoruz. Yani, orijinal matrisi 3 satır ve 2 sütundan oluşan yeni bir matrise dönüştürüyoruz.\n",
        "\n",
        "\n",
        "print(yeni_dizi) # Son olarak orijinal matrisin yeniden şekillendirilmiş hali olan yeni_dizi'yi ekrana yazdıracaktır."
      ],
      "metadata": {
        "colab": {
          "base_uri": "https://localhost:8080/"
        },
        "id": "EG8YHsOcSNeh",
        "outputId": "160a10ff-df5e-4d00-c7e4-c86d4487ab8e"
      },
      "execution_count": 5,
      "outputs": [
        {
          "output_type": "stream",
          "name": "stdout",
          "text": [
            "[[1 2]\n",
            " [3 4]\n",
            " [5 6]]\n"
          ]
        }
      ]
    },
    {
      "cell_type": "code",
      "source": [
        "#Şimdi yukarıda yaptığımız örneğin daha farklısını yapalım.\n",
        "dizi = np.array([[1,2,3,4,5,6,7,8,9,10],[11,12,13,14,15,16,17,18,19,20]]) #bu sefer Numpy dizimizi daha uzun yapalım.\n",
        "yeni_dizi = dizi.reshape(4,5)\n",
        "print(yeni_dizi)\n",
        "\n",
        "#sayılar ve Numpy dizisi üzerinde değişiklikler yaparak farklı şekillerde yeniden boyutlandırabilirsiniz :))"
      ],
      "metadata": {
        "colab": {
          "base_uri": "https://localhost:8080/"
        },
        "id": "O0DhcfWPUcdv",
        "outputId": "862c5257-16f4-47c3-ddc9-f49f7c2b6282"
      },
      "execution_count": 8,
      "outputs": [
        {
          "output_type": "stream",
          "name": "stdout",
          "text": [
            "[[ 1  2  3  4  5]\n",
            " [ 6  7  8  9 10]\n",
            " [11 12 13 14 15]\n",
            " [16 17 18 19 20]]\n"
          ]
        }
      ]
    },
    {
      "cell_type": "code",
      "source": [
        "#np.arange() FONKSİYONUNUN KULLANIMI\n",
        "#np.arange() fonksiyonu, Numpy kütüphanesinde belirtilen bir aralıktaki sayıları içeren bir dizi (array) oluşturmak için kullanılır.\n",
        "#Bu fonksiyon, genellikle belirli bir başlangıç değeri, bitiş değeri ve isteğe bağlı olarak adım değeri alarak çalışır.\n",
        "\n",
        "#şimdi birkaç örnek yazalım:\n",
        "dizi1 = np.arange(3) #başlangıç varsayılanı: 0 , adım sayısı varsayılanı: 1\n",
        "dizi2 = np.arange(3,8) #başlangıç varsayılanı: 5 , adım sayısı varsayılanı: 1\n",
        "dizi3 = np.arange(1,11,3) #başlangıç: 1, adım sayısı: 3, bitiş: 11\n",
        "\n",
        "print(\"Dizi1:\", dizi1)\n",
        "print(\"Dizi2:\", dizi2)\n",
        "print(\"Dizi3:\", dizi3)\n"
      ],
      "metadata": {
        "colab": {
          "base_uri": "https://localhost:8080/"
        },
        "id": "JsiXmUprWNiD",
        "outputId": "cc0266a6-3e45-47b0-eea8-74c35086f319"
      },
      "execution_count": 9,
      "outputs": [
        {
          "output_type": "stream",
          "name": "stdout",
          "text": [
            "Dizi1: [0 1 2]\n",
            "Dizi2: [3 4 5 6 7]\n",
            "Dizi3: [ 1  4  7 10]\n"
          ]
        }
      ]
    },
    {
      "cell_type": "code",
      "source": [
        "#ndarray.ndim İLE BİR FONKSİYONUN BOYUTUNU BULMAK\n",
        "#ndarray.ndim özelliği, bir Numpy dizisinin boyut sayısını (dimension) döndüren bir özelliktir.\n",
        "#Yani, bir dizinin kaç boyutlu olduğunu belirler. Her boyut bir eksen (axis) olarak adlandırılır.\n",
        "\n",
        "#İşte bu özelliğin kullanımı:\n",
        "dizi = np.array([[1, 2, 3], [4, 5, 6]])\n",
        "boyut = dizi.ndim\n",
        "print(boyut)\n",
        "#Bu kod, dizi adlı iki boyutlu bir Numpy dizisi oluşturur. Sonra, ndim özelliğini kullanarak bu dizinin boyut sayısını elde eder ve ekrana yazdırır.\n",
        "#Bu, dizi'nin iki boyutlu bir dizi olduğunu gösterir. Eğer dizi tek boyutlu olsaydı, ndim özelliği 1'i döndürürdü.\n",
        "#Eğer daha fazla boyuta sahip bir dizi olsaydı, örneğin üç boyutlu bir dizi, ndim 3'ü döndürürdü ve boyut sayısı arttıkça bu şekilde devam ederdi.\n",
        "#Bu özellik, Numpy dizilerinin yapısını anlamak ve program içinde dinamik olarak çalışmak için önemlidir.\n"
      ],
      "metadata": {
        "id": "ogSGVMhdX0nN"
      },
      "execution_count": null,
      "outputs": []
    },
    {
      "cell_type": "code",
      "source": [],
      "metadata": {
        "id": "50bS5g6qa_9x"
      },
      "execution_count": null,
      "outputs": []
    }
  ]
}